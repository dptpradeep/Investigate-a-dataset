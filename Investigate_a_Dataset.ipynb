{
 "cells": [
  {
   "cell_type": "markdown",
   "metadata": {},
   "source": [
    "\n",
    "# Project: Gapminder World\n",
    "\n",
    "## Table of Contents\n",
    "<ul>\n",
    "<li><a href=\"#intro\">Introduction</a></li>\n",
    "<li><a href=\"#wrangling\">Data Wrangling</a></li>\n",
    "<li><a href=\"#eda\">Exploratory Data Analysis</a></li>\n",
    "<li><a href=\"#conclusions\">Conclusions</a></li>\n",
    "</ul>"
   ]
  },
  {
   "cell_type": "markdown",
   "metadata": {},
   "source": [
    "<a id='intro'></a>\n",
    "## Introduction\n",
    "### Gapminder World \n",
    "Gapminder has collected lot of information about various aspects of people in different countries over years and have provided the information under various indicators. In this project, I have chosen 4 indicators - income per person GDP, urban population, population growth and forest area for people living in different countries from 1996 to 2016. I have chosen the data of years for these 4 indicators for every 5 years. (1996, 2001, 2006, 2011 and 2016)\n",
    "\n",
    "**Income per person GDP** - It is the purchasing power of people (in international dollars, fixed 2011 prices)\n",
    "\n",
    "**Urban Population** - Refers to the people living in urban areas\n",
    "\n",
    "**Population growth** - Annual percentage population growth rate\n",
    "\n",
    "**Forest Area** - This is the land area under planted or natural trees for 5 meters.\n",
    "\n",
    "Questions \n",
    "1. How has the population growth rate increased/decreased from 1996 to 2016?\n",
    "2. Relationship between urban population and population growth\n",
    "3. Relationship between urban population and income per person GDP\n"
   ]
  },
  {
   "cell_type": "code",
   "execution_count": 1,
   "metadata": {},
   "outputs": [],
   "source": [
    "#All packages planned to use\n",
    "import pandas as pd\n",
    "import matplotlib.pyplot as plt\n",
    "import numpy as np\n",
    "import seaborn as sns\n",
    "%matplotlib inline"
   ]
  },
  {
   "cell_type": "markdown",
   "metadata": {},
   "source": [
    "<a id='wrangling'></a>\n",
    "## Data Wrangling\n",
    "\n",
    "### General Properties"
   ]
  },
  {
   "cell_type": "markdown",
   "metadata": {},
   "source": [
    "The data for this project is available in different csv files. Each indicator is a csv file. So the best way to approach data analysis was to load the data, check if data cleaning is required and then merge the data into a final dataframe and then proceed with exploratory analysis.\n",
    "Each indicator has different rows and columns size. Consider countries where most of the data is available in the recent few years."
   ]
  },
  {
   "cell_type": "code",
   "execution_count": 2,
   "metadata": {},
   "outputs": [],
   "source": [
    "# Loading income_gdp.csv file and making country the index column\n",
    "df_income = pd.read_csv('income_gdp.csv', index_col =0)\n"
   ]
  },
  {
   "cell_type": "code",
   "execution_count": 3,
   "metadata": {},
   "outputs": [
    {
     "data": {
      "text/plain": [
       "(193, 241)"
      ]
     },
     "execution_count": 3,
     "metadata": {},
     "output_type": "execute_result"
    }
   ],
   "source": [
    "df_income.shape"
   ]
  },
  {
   "cell_type": "code",
   "execution_count": 4,
   "metadata": {
    "scrolled": true
   },
   "outputs": [],
   "source": [
    "#Loading life_expectancy.csv and makng country column the index\n",
    "df_urban_population = pd.read_csv('urban_population.csv', index_col =0)\n"
   ]
  },
  {
   "cell_type": "code",
   "execution_count": 5,
   "metadata": {},
   "outputs": [
    {
     "data": {
      "text/plain": [
       "(193, 59)"
      ]
     },
     "execution_count": 5,
     "metadata": {},
     "output_type": "execute_result"
    }
   ],
   "source": [
    "df_urban_population.shape"
   ]
  },
  {
   "cell_type": "code",
   "execution_count": 6,
   "metadata": {},
   "outputs": [],
   "source": [
    "#Loading population_growth.csv and making the country column index\n",
    "df_population_growth = pd.read_csv('population_growth.csv', index_col =0)\n"
   ]
  },
  {
   "cell_type": "code",
   "execution_count": 7,
   "metadata": {},
   "outputs": [
    {
     "data": {
      "text/plain": [
       "(193, 59)"
      ]
     },
     "execution_count": 7,
     "metadata": {},
     "output_type": "execute_result"
    }
   ],
   "source": [
    "df_population_growth.shape"
   ]
  },
  {
   "cell_type": "code",
   "execution_count": 8,
   "metadata": {},
   "outputs": [],
   "source": [
    "#Loading employment_rate.csv and making the country column as index\n",
    "df_forest_area = pd.read_csv('forest_area.csv',index_col=0)\n",
    "\n"
   ]
  },
  {
   "cell_type": "code",
   "execution_count": 9,
   "metadata": {},
   "outputs": [
    {
     "data": {
      "text/plain": [
       "(193, 27)"
      ]
     },
     "execution_count": 9,
     "metadata": {},
     "output_type": "execute_result"
    }
   ],
   "source": [
    "df_forest_area.shape"
   ]
  },
  {
   "cell_type": "markdown",
   "metadata": {},
   "source": [
    "The above data shows that there are data for each country for every year is provided for each indicator. All these file will need to be reshaped in order to merge and create a dataframe with all 4 indicators and then proceed with analysing each column and checking if further cleaning is required."
   ]
  },
  {
   "cell_type": "markdown",
   "metadata": {},
   "source": [
    "\n",
    "Let us consider 21 years of the data with an increment of 5 years from 1996 to 2016 including both the years(1996, 2001, 2006, 2011 and 2016) for all 4 indicators and proceed with cleaning the data. "
   ]
  },
  {
   "cell_type": "code",
   "execution_count": 10,
   "metadata": {},
   "outputs": [
    {
     "data": {
      "text/html": [
       "<div>\n",
       "<style scoped>\n",
       "    .dataframe tbody tr th:only-of-type {\n",
       "        vertical-align: middle;\n",
       "    }\n",
       "\n",
       "    .dataframe tbody tr th {\n",
       "        vertical-align: top;\n",
       "    }\n",
       "\n",
       "    .dataframe thead th {\n",
       "        text-align: right;\n",
       "    }\n",
       "</style>\n",
       "<table border=\"1\" class=\"dataframe\">\n",
       "  <thead>\n",
       "    <tr style=\"text-align: right;\">\n",
       "      <th></th>\n",
       "      <th>1996</th>\n",
       "      <th>2001</th>\n",
       "      <th>2006</th>\n",
       "      <th>2011</th>\n",
       "      <th>2016</th>\n",
       "    </tr>\n",
       "    <tr>\n",
       "      <th>country</th>\n",
       "      <th></th>\n",
       "      <th></th>\n",
       "      <th></th>\n",
       "      <th></th>\n",
       "      <th></th>\n",
       "    </tr>\n",
       "  </thead>\n",
       "  <tbody>\n",
       "    <tr>\n",
       "      <th>Afghanistan</th>\n",
       "      <td>942</td>\n",
       "      <td>646</td>\n",
       "      <td>1120</td>\n",
       "      <td>1630</td>\n",
       "      <td>1760</td>\n",
       "    </tr>\n",
       "  </tbody>\n",
       "</table>\n",
       "</div>"
      ],
      "text/plain": [
       "             1996  2001  2006  2011  2016\n",
       "country                                  \n",
       "Afghanistan   942   646  1120  1630  1760"
      ]
     },
     "execution_count": 10,
     "metadata": {},
     "output_type": "execute_result"
    }
   ],
   "source": [
    "# After discussing the structure of the data and any problems that need to be\n",
    "#   cleaned, perform those cleaning steps in the second part of this section.\n",
    "df_income = df_income[['1996','2001','2006','2011','2016']]\n",
    "df_income.head(1)"
   ]
  },
  {
   "cell_type": "code",
   "execution_count": 11,
   "metadata": {},
   "outputs": [
    {
     "data": {
      "text/html": [
       "<div>\n",
       "<style scoped>\n",
       "    .dataframe tbody tr th:only-of-type {\n",
       "        vertical-align: middle;\n",
       "    }\n",
       "\n",
       "    .dataframe tbody tr th {\n",
       "        vertical-align: top;\n",
       "    }\n",
       "\n",
       "    .dataframe thead th {\n",
       "        text-align: right;\n",
       "    }\n",
       "</style>\n",
       "<table border=\"1\" class=\"dataframe\">\n",
       "  <thead>\n",
       "    <tr style=\"text-align: right;\">\n",
       "      <th></th>\n",
       "      <th>1996</th>\n",
       "      <th>2001</th>\n",
       "      <th>2006</th>\n",
       "      <th>2011</th>\n",
       "      <th>2016</th>\n",
       "    </tr>\n",
       "    <tr>\n",
       "      <th>country</th>\n",
       "      <th></th>\n",
       "      <th></th>\n",
       "      <th></th>\n",
       "      <th></th>\n",
       "      <th></th>\n",
       "    </tr>\n",
       "  </thead>\n",
       "  <tbody>\n",
       "    <tr>\n",
       "      <th>Afghanistan</th>\n",
       "      <td>4090000</td>\n",
       "      <td>4790000</td>\n",
       "      <td>6060000</td>\n",
       "      <td>7210000</td>\n",
       "      <td>8850000.0</td>\n",
       "    </tr>\n",
       "  </tbody>\n",
       "</table>\n",
       "</div>"
      ],
      "text/plain": [
       "                1996     2001     2006     2011       2016\n",
       "country                                                   \n",
       "Afghanistan  4090000  4790000  6060000  7210000  8850000.0"
      ]
     },
     "execution_count": 11,
     "metadata": {},
     "output_type": "execute_result"
    }
   ],
   "source": [
    "df_urban_population= df_urban_population[['1996','2001','2006','2011','2016']]\n",
    "df_urban_population.head(1)"
   ]
  },
  {
   "cell_type": "code",
   "execution_count": 12,
   "metadata": {},
   "outputs": [
    {
     "data": {
      "text/html": [
       "<div>\n",
       "<style scoped>\n",
       "    .dataframe tbody tr th:only-of-type {\n",
       "        vertical-align: middle;\n",
       "    }\n",
       "\n",
       "    .dataframe tbody tr th {\n",
       "        vertical-align: top;\n",
       "    }\n",
       "\n",
       "    .dataframe thead th {\n",
       "        text-align: right;\n",
       "    }\n",
       "</style>\n",
       "<table border=\"1\" class=\"dataframe\">\n",
       "  <thead>\n",
       "    <tr style=\"text-align: right;\">\n",
       "      <th></th>\n",
       "      <th>1996</th>\n",
       "      <th>2001</th>\n",
       "      <th>2006</th>\n",
       "      <th>2011</th>\n",
       "      <th>2016</th>\n",
       "    </tr>\n",
       "    <tr>\n",
       "      <th>country</th>\n",
       "      <th></th>\n",
       "      <th></th>\n",
       "      <th></th>\n",
       "      <th></th>\n",
       "      <th></th>\n",
       "    </tr>\n",
       "  </thead>\n",
       "  <tbody>\n",
       "    <tr>\n",
       "      <th>Afghanistan</th>\n",
       "      <td>0.0402</td>\n",
       "      <td>0.039</td>\n",
       "      <td>0.0299</td>\n",
       "      <td>0.0314</td>\n",
       "      <td>0.0278</td>\n",
       "    </tr>\n",
       "  </tbody>\n",
       "</table>\n",
       "</div>"
      ],
      "text/plain": [
       "               1996   2001    2006    2011    2016\n",
       "country                                           \n",
       "Afghanistan  0.0402  0.039  0.0299  0.0314  0.0278"
      ]
     },
     "execution_count": 12,
     "metadata": {},
     "output_type": "execute_result"
    }
   ],
   "source": [
    "df_population_growth = df_population_growth[['1996','2001','2006','2011','2016']]\n",
    "df_population_growth.head(1)"
   ]
  },
  {
   "cell_type": "code",
   "execution_count": 13,
   "metadata": {},
   "outputs": [
    {
     "data": {
      "text/html": [
       "<div>\n",
       "<style scoped>\n",
       "    .dataframe tbody tr th:only-of-type {\n",
       "        vertical-align: middle;\n",
       "    }\n",
       "\n",
       "    .dataframe tbody tr th {\n",
       "        vertical-align: top;\n",
       "    }\n",
       "\n",
       "    .dataframe thead th {\n",
       "        text-align: right;\n",
       "    }\n",
       "</style>\n",
       "<table border=\"1\" class=\"dataframe\">\n",
       "  <thead>\n",
       "    <tr style=\"text-align: right;\">\n",
       "      <th></th>\n",
       "      <th>1996</th>\n",
       "      <th>2001</th>\n",
       "      <th>2006</th>\n",
       "      <th>2011</th>\n",
       "      <th>2016</th>\n",
       "    </tr>\n",
       "    <tr>\n",
       "      <th>country</th>\n",
       "      <th></th>\n",
       "      <th></th>\n",
       "      <th></th>\n",
       "      <th></th>\n",
       "      <th></th>\n",
       "    </tr>\n",
       "  </thead>\n",
       "  <tbody>\n",
       "    <tr>\n",
       "      <th>Afghanistan</th>\n",
       "      <td>13500.0</td>\n",
       "      <td>13500.0</td>\n",
       "      <td>13500.0</td>\n",
       "      <td>13500.0</td>\n",
       "      <td>13500.0</td>\n",
       "    </tr>\n",
       "  </tbody>\n",
       "</table>\n",
       "</div>"
      ],
      "text/plain": [
       "                1996     2001     2006     2011     2016\n",
       "country                                                 \n",
       "Afghanistan  13500.0  13500.0  13500.0  13500.0  13500.0"
      ]
     },
     "execution_count": 13,
     "metadata": {},
     "output_type": "execute_result"
    }
   ],
   "source": [
    "df_forest_area = df_forest_area[['1996','2001','2006','2011','2016']]\n",
    "df_forest_area.head(1)"
   ]
  },
  {
   "cell_type": "code",
   "execution_count": 14,
   "metadata": {},
   "outputs": [
    {
     "data": {
      "text/html": [
       "<div>\n",
       "<style scoped>\n",
       "    .dataframe tbody tr th:only-of-type {\n",
       "        vertical-align: middle;\n",
       "    }\n",
       "\n",
       "    .dataframe tbody tr th {\n",
       "        vertical-align: top;\n",
       "    }\n",
       "\n",
       "    .dataframe thead th {\n",
       "        text-align: right;\n",
       "    }\n",
       "</style>\n",
       "<table border=\"1\" class=\"dataframe\">\n",
       "  <thead>\n",
       "    <tr style=\"text-align: right;\">\n",
       "      <th></th>\n",
       "      <th>1996_INC</th>\n",
       "      <th>2001_INC</th>\n",
       "      <th>2006_INC</th>\n",
       "      <th>2011_INC</th>\n",
       "      <th>2016_INC</th>\n",
       "    </tr>\n",
       "    <tr>\n",
       "      <th>country</th>\n",
       "      <th></th>\n",
       "      <th></th>\n",
       "      <th></th>\n",
       "      <th></th>\n",
       "      <th></th>\n",
       "    </tr>\n",
       "  </thead>\n",
       "  <tbody>\n",
       "    <tr>\n",
       "      <th>Afghanistan</th>\n",
       "      <td>942</td>\n",
       "      <td>646</td>\n",
       "      <td>1120</td>\n",
       "      <td>1630</td>\n",
       "      <td>1760</td>\n",
       "    </tr>\n",
       "  </tbody>\n",
       "</table>\n",
       "</div>"
      ],
      "text/plain": [
       "             1996_INC  2001_INC  2006_INC  2011_INC  2016_INC\n",
       "country                                                      \n",
       "Afghanistan       942       646      1120      1630      1760"
      ]
     },
     "execution_count": 14,
     "metadata": {},
     "output_type": "execute_result"
    }
   ],
   "source": [
    "#renaming years with underscore followed by first 3 letters of each indicator\n",
    "df_income = df_income.rename(columns = lambda x: x+'_INC')\n",
    "df_income.head(1)"
   ]
  },
  {
   "cell_type": "code",
   "execution_count": 15,
   "metadata": {},
   "outputs": [
    {
     "data": {
      "text/html": [
       "<div>\n",
       "<style scoped>\n",
       "    .dataframe tbody tr th:only-of-type {\n",
       "        vertical-align: middle;\n",
       "    }\n",
       "\n",
       "    .dataframe tbody tr th {\n",
       "        vertical-align: top;\n",
       "    }\n",
       "\n",
       "    .dataframe thead th {\n",
       "        text-align: right;\n",
       "    }\n",
       "</style>\n",
       "<table border=\"1\" class=\"dataframe\">\n",
       "  <thead>\n",
       "    <tr style=\"text-align: right;\">\n",
       "      <th></th>\n",
       "      <th>1996_URB</th>\n",
       "      <th>2001_URB</th>\n",
       "      <th>2006_URB</th>\n",
       "      <th>2011_URB</th>\n",
       "      <th>2016_URB</th>\n",
       "    </tr>\n",
       "    <tr>\n",
       "      <th>country</th>\n",
       "      <th></th>\n",
       "      <th></th>\n",
       "      <th></th>\n",
       "      <th></th>\n",
       "      <th></th>\n",
       "    </tr>\n",
       "  </thead>\n",
       "  <tbody>\n",
       "    <tr>\n",
       "      <th>Afghanistan</th>\n",
       "      <td>4090000</td>\n",
       "      <td>4790000</td>\n",
       "      <td>6060000</td>\n",
       "      <td>7210000</td>\n",
       "      <td>8850000.0</td>\n",
       "    </tr>\n",
       "  </tbody>\n",
       "</table>\n",
       "</div>"
      ],
      "text/plain": [
       "             1996_URB  2001_URB  2006_URB  2011_URB   2016_URB\n",
       "country                                                       \n",
       "Afghanistan   4090000   4790000   6060000   7210000  8850000.0"
      ]
     },
     "execution_count": 15,
     "metadata": {},
     "output_type": "execute_result"
    }
   ],
   "source": [
    "df_urban_population = df_urban_population.rename(columns = lambda x: x+'_URB')\n",
    "df_urban_population.head(1)"
   ]
  },
  {
   "cell_type": "code",
   "execution_count": 16,
   "metadata": {},
   "outputs": [
    {
     "data": {
      "text/html": [
       "<div>\n",
       "<style scoped>\n",
       "    .dataframe tbody tr th:only-of-type {\n",
       "        vertical-align: middle;\n",
       "    }\n",
       "\n",
       "    .dataframe tbody tr th {\n",
       "        vertical-align: top;\n",
       "    }\n",
       "\n",
       "    .dataframe thead th {\n",
       "        text-align: right;\n",
       "    }\n",
       "</style>\n",
       "<table border=\"1\" class=\"dataframe\">\n",
       "  <thead>\n",
       "    <tr style=\"text-align: right;\">\n",
       "      <th></th>\n",
       "      <th>1996_POP</th>\n",
       "      <th>2001_POP</th>\n",
       "      <th>2006_POP</th>\n",
       "      <th>2011_POP</th>\n",
       "      <th>2016_POP</th>\n",
       "    </tr>\n",
       "    <tr>\n",
       "      <th>country</th>\n",
       "      <th></th>\n",
       "      <th></th>\n",
       "      <th></th>\n",
       "      <th></th>\n",
       "      <th></th>\n",
       "    </tr>\n",
       "  </thead>\n",
       "  <tbody>\n",
       "    <tr>\n",
       "      <th>Afghanistan</th>\n",
       "      <td>0.0402</td>\n",
       "      <td>0.039</td>\n",
       "      <td>0.0299</td>\n",
       "      <td>0.0314</td>\n",
       "      <td>0.0278</td>\n",
       "    </tr>\n",
       "  </tbody>\n",
       "</table>\n",
       "</div>"
      ],
      "text/plain": [
       "             1996_POP  2001_POP  2006_POP  2011_POP  2016_POP\n",
       "country                                                      \n",
       "Afghanistan    0.0402     0.039    0.0299    0.0314    0.0278"
      ]
     },
     "execution_count": 16,
     "metadata": {},
     "output_type": "execute_result"
    }
   ],
   "source": [
    "df_population_growth = df_population_growth.rename(columns = lambda x: x+'_POP')\n",
    "df_population_growth.head(1)"
   ]
  },
  {
   "cell_type": "code",
   "execution_count": 17,
   "metadata": {},
   "outputs": [
    {
     "data": {
      "text/html": [
       "<div>\n",
       "<style scoped>\n",
       "    .dataframe tbody tr th:only-of-type {\n",
       "        vertical-align: middle;\n",
       "    }\n",
       "\n",
       "    .dataframe tbody tr th {\n",
       "        vertical-align: top;\n",
       "    }\n",
       "\n",
       "    .dataframe thead th {\n",
       "        text-align: right;\n",
       "    }\n",
       "</style>\n",
       "<table border=\"1\" class=\"dataframe\">\n",
       "  <thead>\n",
       "    <tr style=\"text-align: right;\">\n",
       "      <th></th>\n",
       "      <th>1996_FOR</th>\n",
       "      <th>2001_FOR</th>\n",
       "      <th>2006_FOR</th>\n",
       "      <th>2011_FOR</th>\n",
       "      <th>2016_FOR</th>\n",
       "    </tr>\n",
       "    <tr>\n",
       "      <th>country</th>\n",
       "      <th></th>\n",
       "      <th></th>\n",
       "      <th></th>\n",
       "      <th></th>\n",
       "      <th></th>\n",
       "    </tr>\n",
       "  </thead>\n",
       "  <tbody>\n",
       "    <tr>\n",
       "      <th>Afghanistan</th>\n",
       "      <td>13500.0</td>\n",
       "      <td>13500.0</td>\n",
       "      <td>13500.0</td>\n",
       "      <td>13500.0</td>\n",
       "      <td>13500.0</td>\n",
       "    </tr>\n",
       "  </tbody>\n",
       "</table>\n",
       "</div>"
      ],
      "text/plain": [
       "             1996_FOR  2001_FOR  2006_FOR  2011_FOR  2016_FOR\n",
       "country                                                      \n",
       "Afghanistan   13500.0   13500.0   13500.0   13500.0   13500.0"
      ]
     },
     "execution_count": 17,
     "metadata": {},
     "output_type": "execute_result"
    }
   ],
   "source": [
    "df_forest_area= df_forest_area.rename(columns= lambda x: x+'_FOR')\n",
    "df_forest_area.head(1)"
   ]
  },
  {
   "cell_type": "code",
   "execution_count": 18,
   "metadata": {},
   "outputs": [
    {
     "name": "stdout",
     "output_type": "stream",
     "text": [
      "<class 'pandas.core.frame.DataFrame'>\n",
      "Index: 193 entries, Afghanistan to Zimbabwe\n",
      "Data columns (total 5 columns):\n",
      "1996_INC    193 non-null int64\n",
      "2001_INC    193 non-null int64\n",
      "2006_INC    193 non-null int64\n",
      "2011_INC    193 non-null int64\n",
      "2016_INC    193 non-null int64\n",
      "dtypes: int64(5)\n",
      "memory usage: 9.0+ KB\n",
      "<class 'pandas.core.frame.DataFrame'>\n",
      "Index: 193 entries, Afghanistan to Zimbabwe\n",
      "Data columns (total 5 columns):\n",
      "1996_URB    193 non-null int64\n",
      "2001_URB    193 non-null int64\n",
      "2006_URB    193 non-null int64\n",
      "2011_URB    193 non-null int64\n",
      "2016_URB    192 non-null float64\n",
      "dtypes: float64(1), int64(4)\n",
      "memory usage: 9.0+ KB\n",
      "<class 'pandas.core.frame.DataFrame'>\n",
      "Index: 193 entries, Afghanistan to Zimbabwe\n",
      "Data columns (total 5 columns):\n",
      "1996_POP    193 non-null float64\n",
      "2001_POP    193 non-null float64\n",
      "2006_POP    193 non-null float64\n",
      "2011_POP    193 non-null float64\n",
      "2016_POP    192 non-null float64\n",
      "dtypes: float64(5)\n",
      "memory usage: 9.0+ KB\n",
      "<class 'pandas.core.frame.DataFrame'>\n",
      "Index: 193 entries, Afghanistan to Zimbabwe\n",
      "Data columns (total 5 columns):\n",
      "1996_FOR    191 non-null float64\n",
      "2001_FOR    191 non-null float64\n",
      "2006_FOR    191 non-null float64\n",
      "2011_FOR    193 non-null float64\n",
      "2016_FOR    193 non-null float64\n",
      "dtypes: float64(5)\n",
      "memory usage: 9.0+ KB\n"
     ]
    },
    {
     "data": {
      "text/plain": [
       "(None, None, None, None)"
      ]
     },
     "execution_count": 18,
     "metadata": {},
     "output_type": "execute_result"
    }
   ],
   "source": [
    "#Checking columns with null values\n",
    "df_income.info() , df_urban_population.info(), df_population_growth.info(), df_forest_area.info()"
   ]
  },
  {
   "cell_type": "code",
   "execution_count": 19,
   "metadata": {},
   "outputs": [],
   "source": [
    "#Converting urban population data type to float\n",
    "df_urban_population = df_urban_population.iloc[:,:5].astype(float)"
   ]
  },
  {
   "cell_type": "code",
   "execution_count": 20,
   "metadata": {},
   "outputs": [],
   "source": [
    "#Coverting income per person GDP data type to float\n",
    "df_income = df_income.iloc[:,:5].astype(float)"
   ]
  },
  {
   "cell_type": "code",
   "execution_count": 21,
   "metadata": {},
   "outputs": [],
   "source": [
    "#Fill 0 with NaN values in Urban Population, Population growth and Forest area\n",
    "df_urban_population['2016_URB'] = df_urban_population['2016_URB'].fillna(0)\n",
    "df_population_growth['2016_POP'] = df_population_growth['2016_POP'].fillna(0)\n",
    "df_forest_area = df_forest_area.iloc[:,:5].fillna(0)\n"
   ]
  },
  {
   "cell_type": "code",
   "execution_count": 22,
   "metadata": {},
   "outputs": [
    {
     "name": "stdout",
     "output_type": "stream",
     "text": [
      "<class 'pandas.core.frame.DataFrame'>\n",
      "Index: 193 entries, Afghanistan to Zimbabwe\n",
      "Data columns (total 5 columns):\n",
      "1996_INC    193 non-null float64\n",
      "2001_INC    193 non-null float64\n",
      "2006_INC    193 non-null float64\n",
      "2011_INC    193 non-null float64\n",
      "2016_INC    193 non-null float64\n",
      "dtypes: float64(5)\n",
      "memory usage: 9.0+ KB\n",
      "<class 'pandas.core.frame.DataFrame'>\n",
      "Index: 193 entries, Afghanistan to Zimbabwe\n",
      "Data columns (total 5 columns):\n",
      "1996_URB    193 non-null float64\n",
      "2001_URB    193 non-null float64\n",
      "2006_URB    193 non-null float64\n",
      "2011_URB    193 non-null float64\n",
      "2016_URB    193 non-null float64\n",
      "dtypes: float64(5)\n",
      "memory usage: 9.0+ KB\n",
      "<class 'pandas.core.frame.DataFrame'>\n",
      "Index: 193 entries, Afghanistan to Zimbabwe\n",
      "Data columns (total 5 columns):\n",
      "1996_POP    193 non-null float64\n",
      "2001_POP    193 non-null float64\n",
      "2006_POP    193 non-null float64\n",
      "2011_POP    193 non-null float64\n",
      "2016_POP    193 non-null float64\n",
      "dtypes: float64(5)\n",
      "memory usage: 9.0+ KB\n",
      "<class 'pandas.core.frame.DataFrame'>\n",
      "Index: 193 entries, Afghanistan to Zimbabwe\n",
      "Data columns (total 5 columns):\n",
      "1996_FOR    193 non-null float64\n",
      "2001_FOR    193 non-null float64\n",
      "2006_FOR    193 non-null float64\n",
      "2011_FOR    193 non-null float64\n",
      "2016_FOR    193 non-null float64\n",
      "dtypes: float64(5)\n",
      "memory usage: 9.0+ KB\n"
     ]
    },
    {
     "data": {
      "text/plain": [
       "(None, None, None, None)"
      ]
     },
     "execution_count": 22,
     "metadata": {},
     "output_type": "execute_result"
    }
   ],
   "source": [
    "#Checking columns with null values\n",
    "df_income.info() , df_urban_population.info(), df_population_growth.info(), df_forest_area.info()"
   ]
  },
  {
   "cell_type": "markdown",
   "metadata": {},
   "source": [
    "All the data frames have 193 countries with non-null values and have the same datatype. Now all these dataframes have to be merged into a final dataframe. To do this, let us consider 2 dataframes at a time. Compare the countries and merge the remaining data."
   ]
  },
  {
   "cell_type": "code",
   "execution_count": 23,
   "metadata": {},
   "outputs": [],
   "source": [
    "#Merging Income per person GDP with Urban Population dataframes first\n",
    "df_inc_urb = pd.merge(df_income,df_urban_population,left_index = True,right_index = True)"
   ]
  },
  {
   "cell_type": "code",
   "execution_count": 24,
   "metadata": {},
   "outputs": [],
   "source": [
    "#Merging Population Growth and Forest Area dataframes\n",
    "df_pop_for = pd.merge(df_population_growth,df_forest_area,left_index = True,right_index = True)"
   ]
  },
  {
   "cell_type": "code",
   "execution_count": 25,
   "metadata": {},
   "outputs": [],
   "source": [
    "#Merging the above merged dataframes to give a final combined dataframe\n",
    "df_combined = pd.merge(df_inc_urb,df_pop_for,left_index = True,right_index = True)"
   ]
  },
  {
   "cell_type": "code",
   "execution_count": 26,
   "metadata": {},
   "outputs": [
    {
     "data": {
      "text/html": [
       "<div>\n",
       "<style scoped>\n",
       "    .dataframe tbody tr th:only-of-type {\n",
       "        vertical-align: middle;\n",
       "    }\n",
       "\n",
       "    .dataframe tbody tr th {\n",
       "        vertical-align: top;\n",
       "    }\n",
       "\n",
       "    .dataframe thead th {\n",
       "        text-align: right;\n",
       "    }\n",
       "</style>\n",
       "<table border=\"1\" class=\"dataframe\">\n",
       "  <thead>\n",
       "    <tr style=\"text-align: right;\">\n",
       "      <th></th>\n",
       "      <th>1996_INC</th>\n",
       "      <th>2001_INC</th>\n",
       "      <th>2006_INC</th>\n",
       "      <th>2011_INC</th>\n",
       "      <th>2016_INC</th>\n",
       "      <th>1996_URB</th>\n",
       "      <th>2001_URB</th>\n",
       "      <th>2006_URB</th>\n",
       "      <th>2011_URB</th>\n",
       "      <th>2016_URB</th>\n",
       "      <th>1996_POP</th>\n",
       "      <th>2001_POP</th>\n",
       "      <th>2006_POP</th>\n",
       "      <th>2011_POP</th>\n",
       "      <th>2016_POP</th>\n",
       "      <th>1996_FOR</th>\n",
       "      <th>2001_FOR</th>\n",
       "      <th>2006_FOR</th>\n",
       "      <th>2011_FOR</th>\n",
       "      <th>2016_FOR</th>\n",
       "    </tr>\n",
       "    <tr>\n",
       "      <th>country</th>\n",
       "      <th></th>\n",
       "      <th></th>\n",
       "      <th></th>\n",
       "      <th></th>\n",
       "      <th></th>\n",
       "      <th></th>\n",
       "      <th></th>\n",
       "      <th></th>\n",
       "      <th></th>\n",
       "      <th></th>\n",
       "      <th></th>\n",
       "      <th></th>\n",
       "      <th></th>\n",
       "      <th></th>\n",
       "      <th></th>\n",
       "      <th></th>\n",
       "      <th></th>\n",
       "      <th></th>\n",
       "      <th></th>\n",
       "      <th></th>\n",
       "    </tr>\n",
       "  </thead>\n",
       "  <tbody>\n",
       "    <tr>\n",
       "      <th>Afghanistan</th>\n",
       "      <td>942.0</td>\n",
       "      <td>646.0</td>\n",
       "      <td>1120.0</td>\n",
       "      <td>1630.0</td>\n",
       "      <td>1760.0</td>\n",
       "      <td>4090000.0</td>\n",
       "      <td>4790000.0</td>\n",
       "      <td>6060000.0</td>\n",
       "      <td>7210000.0</td>\n",
       "      <td>8850000.0</td>\n",
       "      <td>0.04020</td>\n",
       "      <td>0.03900</td>\n",
       "      <td>0.02990</td>\n",
       "      <td>0.03140</td>\n",
       "      <td>0.02780</td>\n",
       "      <td>13500.0</td>\n",
       "      <td>13500.0</td>\n",
       "      <td>13500.0</td>\n",
       "      <td>13500.0</td>\n",
       "      <td>13500.0</td>\n",
       "    </tr>\n",
       "    <tr>\n",
       "      <th>Albania</th>\n",
       "      <td>4530.0</td>\n",
       "      <td>5950.0</td>\n",
       "      <td>7910.0</td>\n",
       "      <td>10200.0</td>\n",
       "      <td>11400.0</td>\n",
       "      <td>1250000.0</td>\n",
       "      <td>1300000.0</td>\n",
       "      <td>1430000.0</td>\n",
       "      <td>1550000.0</td>\n",
       "      <td>1680000.0</td>\n",
       "      <td>-0.00622</td>\n",
       "      <td>-0.00938</td>\n",
       "      <td>-0.00631</td>\n",
       "      <td>-0.00269</td>\n",
       "      <td>-0.00160</td>\n",
       "      <td>7770.0</td>\n",
       "      <td>7720.0</td>\n",
       "      <td>7810.0</td>\n",
       "      <td>7750.0</td>\n",
       "      <td>7710.0</td>\n",
       "    </tr>\n",
       "    <tr>\n",
       "      <th>Algeria</th>\n",
       "      <td>9560.0</td>\n",
       "      <td>10400.0</td>\n",
       "      <td>12400.0</td>\n",
       "      <td>13000.0</td>\n",
       "      <td>13900.0</td>\n",
       "      <td>16600000.0</td>\n",
       "      <td>19100000.0</td>\n",
       "      <td>21700000.0</td>\n",
       "      <td>25000000.0</td>\n",
       "      <td>29000000.0</td>\n",
       "      <td>0.01750</td>\n",
       "      <td>0.01310</td>\n",
       "      <td>0.01470</td>\n",
       "      <td>0.01880</td>\n",
       "      <td>0.02050</td>\n",
       "      <td>16100.0</td>\n",
       "      <td>15700.0</td>\n",
       "      <td>16100.0</td>\n",
       "      <td>19300.0</td>\n",
       "      <td>19600.0</td>\n",
       "    </tr>\n",
       "    <tr>\n",
       "      <th>Andorra</th>\n",
       "      <td>27200.0</td>\n",
       "      <td>31800.0</td>\n",
       "      <td>42700.0</td>\n",
       "      <td>42000.0</td>\n",
       "      <td>48200.0</td>\n",
       "      <td>60100.0</td>\n",
       "      <td>62000.0</td>\n",
       "      <td>72700.0</td>\n",
       "      <td>74300.0</td>\n",
       "      <td>68200.0</td>\n",
       "      <td>0.00796</td>\n",
       "      <td>0.02940</td>\n",
       "      <td>0.02660</td>\n",
       "      <td>-0.00835</td>\n",
       "      <td>-0.00919</td>\n",
       "      <td>160.0</td>\n",
       "      <td>160.0</td>\n",
       "      <td>160.0</td>\n",
       "      <td>160.0</td>\n",
       "      <td>160.0</td>\n",
       "    </tr>\n",
       "    <tr>\n",
       "      <th>Angola</th>\n",
       "      <td>3750.0</td>\n",
       "      <td>3920.0</td>\n",
       "      <td>5500.0</td>\n",
       "      <td>6350.0</td>\n",
       "      <td>6260.0</td>\n",
       "      <td>6530000.0</td>\n",
       "      <td>8690000.0</td>\n",
       "      <td>11400000.0</td>\n",
       "      <td>14700000.0</td>\n",
       "      <td>18500000.0</td>\n",
       "      <td>0.03210</td>\n",
       "      <td>0.03300</td>\n",
       "      <td>0.03620</td>\n",
       "      <td>0.03630</td>\n",
       "      <td>0.03380</td>\n",
       "      <td>602000.0</td>\n",
       "      <td>596000.0</td>\n",
       "      <td>590000.0</td>\n",
       "      <td>584000.0</td>\n",
       "      <td>577000.0</td>\n",
       "    </tr>\n",
       "  </tbody>\n",
       "</table>\n",
       "</div>"
      ],
      "text/plain": [
       "             1996_INC  2001_INC  2006_INC  2011_INC  2016_INC    1996_URB  \\\n",
       "country                                                                     \n",
       "Afghanistan     942.0     646.0    1120.0    1630.0    1760.0   4090000.0   \n",
       "Albania        4530.0    5950.0    7910.0   10200.0   11400.0   1250000.0   \n",
       "Algeria        9560.0   10400.0   12400.0   13000.0   13900.0  16600000.0   \n",
       "Andorra       27200.0   31800.0   42700.0   42000.0   48200.0     60100.0   \n",
       "Angola         3750.0    3920.0    5500.0    6350.0    6260.0   6530000.0   \n",
       "\n",
       "               2001_URB    2006_URB    2011_URB    2016_URB  1996_POP  \\\n",
       "country                                                                 \n",
       "Afghanistan   4790000.0   6060000.0   7210000.0   8850000.0   0.04020   \n",
       "Albania       1300000.0   1430000.0   1550000.0   1680000.0  -0.00622   \n",
       "Algeria      19100000.0  21700000.0  25000000.0  29000000.0   0.01750   \n",
       "Andorra         62000.0     72700.0     74300.0     68200.0   0.00796   \n",
       "Angola        8690000.0  11400000.0  14700000.0  18500000.0   0.03210   \n",
       "\n",
       "             2001_POP  2006_POP  2011_POP  2016_POP  1996_FOR  2001_FOR  \\\n",
       "country                                                                   \n",
       "Afghanistan   0.03900   0.02990   0.03140   0.02780   13500.0   13500.0   \n",
       "Albania      -0.00938  -0.00631  -0.00269  -0.00160    7770.0    7720.0   \n",
       "Algeria       0.01310   0.01470   0.01880   0.02050   16100.0   15700.0   \n",
       "Andorra       0.02940   0.02660  -0.00835  -0.00919     160.0     160.0   \n",
       "Angola        0.03300   0.03620   0.03630   0.03380  602000.0  596000.0   \n",
       "\n",
       "             2006_FOR  2011_FOR  2016_FOR  \n",
       "country                                    \n",
       "Afghanistan   13500.0   13500.0   13500.0  \n",
       "Albania        7810.0    7750.0    7710.0  \n",
       "Algeria       16100.0   19300.0   19600.0  \n",
       "Andorra         160.0     160.0     160.0  \n",
       "Angola       590000.0  584000.0  577000.0  "
      ]
     },
     "execution_count": 26,
     "metadata": {},
     "output_type": "execute_result"
    }
   ],
   "source": [
    "df_combined.head()"
   ]
  },
  {
   "cell_type": "code",
   "execution_count": 27,
   "metadata": {},
   "outputs": [
    {
     "name": "stdout",
     "output_type": "stream",
     "text": [
      "<class 'pandas.core.frame.DataFrame'>\n",
      "Index: 191 entries, Afghanistan to Zimbabwe\n",
      "Data columns (total 20 columns):\n",
      "1996_INC    191 non-null float64\n",
      "2001_INC    191 non-null float64\n",
      "2006_INC    191 non-null float64\n",
      "2011_INC    191 non-null float64\n",
      "2016_INC    191 non-null float64\n",
      "1996_URB    191 non-null float64\n",
      "2001_URB    191 non-null float64\n",
      "2006_URB    191 non-null float64\n",
      "2011_URB    191 non-null float64\n",
      "2016_URB    191 non-null float64\n",
      "1996_POP    191 non-null float64\n",
      "2001_POP    191 non-null float64\n",
      "2006_POP    191 non-null float64\n",
      "2011_POP    191 non-null float64\n",
      "2016_POP    191 non-null float64\n",
      "1996_FOR    191 non-null float64\n",
      "2001_FOR    191 non-null float64\n",
      "2006_FOR    191 non-null float64\n",
      "2011_FOR    191 non-null float64\n",
      "2016_FOR    191 non-null float64\n",
      "dtypes: float64(20)\n",
      "memory usage: 31.3+ KB\n"
     ]
    }
   ],
   "source": [
    "#checking the combined dataframe and rearranging columns according to the years\n",
    "df_combined.info()\n"
   ]
  },
  {
   "cell_type": "code",
   "execution_count": 28,
   "metadata": {},
   "outputs": [],
   "source": [
    "df_combined.sort_index(axis=1, inplace = True)"
   ]
  },
  {
   "cell_type": "code",
   "execution_count": 29,
   "metadata": {},
   "outputs": [
    {
     "data": {
      "text/html": [
       "<div>\n",
       "<style scoped>\n",
       "    .dataframe tbody tr th:only-of-type {\n",
       "        vertical-align: middle;\n",
       "    }\n",
       "\n",
       "    .dataframe tbody tr th {\n",
       "        vertical-align: top;\n",
       "    }\n",
       "\n",
       "    .dataframe thead th {\n",
       "        text-align: right;\n",
       "    }\n",
       "</style>\n",
       "<table border=\"1\" class=\"dataframe\">\n",
       "  <thead>\n",
       "    <tr style=\"text-align: right;\">\n",
       "      <th></th>\n",
       "      <th>1996_FOR</th>\n",
       "      <th>1996_INC</th>\n",
       "      <th>1996_POP</th>\n",
       "      <th>1996_URB</th>\n",
       "      <th>2001_FOR</th>\n",
       "      <th>2001_INC</th>\n",
       "      <th>2001_POP</th>\n",
       "      <th>2001_URB</th>\n",
       "      <th>2006_FOR</th>\n",
       "      <th>2006_INC</th>\n",
       "      <th>2006_POP</th>\n",
       "      <th>2006_URB</th>\n",
       "      <th>2011_FOR</th>\n",
       "      <th>2011_INC</th>\n",
       "      <th>2011_POP</th>\n",
       "      <th>2011_URB</th>\n",
       "      <th>2016_FOR</th>\n",
       "      <th>2016_INC</th>\n",
       "      <th>2016_POP</th>\n",
       "      <th>2016_URB</th>\n",
       "    </tr>\n",
       "    <tr>\n",
       "      <th>country</th>\n",
       "      <th></th>\n",
       "      <th></th>\n",
       "      <th></th>\n",
       "      <th></th>\n",
       "      <th></th>\n",
       "      <th></th>\n",
       "      <th></th>\n",
       "      <th></th>\n",
       "      <th></th>\n",
       "      <th></th>\n",
       "      <th></th>\n",
       "      <th></th>\n",
       "      <th></th>\n",
       "      <th></th>\n",
       "      <th></th>\n",
       "      <th></th>\n",
       "      <th></th>\n",
       "      <th></th>\n",
       "      <th></th>\n",
       "      <th></th>\n",
       "    </tr>\n",
       "  </thead>\n",
       "  <tbody>\n",
       "    <tr>\n",
       "      <th>Afghanistan</th>\n",
       "      <td>13500.0</td>\n",
       "      <td>942.0</td>\n",
       "      <td>0.04020</td>\n",
       "      <td>4090000.0</td>\n",
       "      <td>13500.0</td>\n",
       "      <td>646.0</td>\n",
       "      <td>0.03900</td>\n",
       "      <td>4790000.0</td>\n",
       "      <td>13500.0</td>\n",
       "      <td>1120.0</td>\n",
       "      <td>0.02990</td>\n",
       "      <td>6060000.0</td>\n",
       "      <td>13500.0</td>\n",
       "      <td>1630.0</td>\n",
       "      <td>0.03140</td>\n",
       "      <td>7210000.0</td>\n",
       "      <td>13500.0</td>\n",
       "      <td>1760.0</td>\n",
       "      <td>0.02780</td>\n",
       "      <td>8850000.0</td>\n",
       "    </tr>\n",
       "    <tr>\n",
       "      <th>Albania</th>\n",
       "      <td>7770.0</td>\n",
       "      <td>4530.0</td>\n",
       "      <td>-0.00622</td>\n",
       "      <td>1250000.0</td>\n",
       "      <td>7720.0</td>\n",
       "      <td>5950.0</td>\n",
       "      <td>-0.00938</td>\n",
       "      <td>1300000.0</td>\n",
       "      <td>7810.0</td>\n",
       "      <td>7910.0</td>\n",
       "      <td>-0.00631</td>\n",
       "      <td>1430000.0</td>\n",
       "      <td>7750.0</td>\n",
       "      <td>10200.0</td>\n",
       "      <td>-0.00269</td>\n",
       "      <td>1550000.0</td>\n",
       "      <td>7710.0</td>\n",
       "      <td>11400.0</td>\n",
       "      <td>-0.00160</td>\n",
       "      <td>1680000.0</td>\n",
       "    </tr>\n",
       "    <tr>\n",
       "      <th>Algeria</th>\n",
       "      <td>16100.0</td>\n",
       "      <td>9560.0</td>\n",
       "      <td>0.01750</td>\n",
       "      <td>16600000.0</td>\n",
       "      <td>15700.0</td>\n",
       "      <td>10400.0</td>\n",
       "      <td>0.01310</td>\n",
       "      <td>19100000.0</td>\n",
       "      <td>16100.0</td>\n",
       "      <td>12400.0</td>\n",
       "      <td>0.01470</td>\n",
       "      <td>21700000.0</td>\n",
       "      <td>19300.0</td>\n",
       "      <td>13000.0</td>\n",
       "      <td>0.01880</td>\n",
       "      <td>25000000.0</td>\n",
       "      <td>19600.0</td>\n",
       "      <td>13900.0</td>\n",
       "      <td>0.02050</td>\n",
       "      <td>29000000.0</td>\n",
       "    </tr>\n",
       "    <tr>\n",
       "      <th>Andorra</th>\n",
       "      <td>160.0</td>\n",
       "      <td>27200.0</td>\n",
       "      <td>0.00796</td>\n",
       "      <td>60100.0</td>\n",
       "      <td>160.0</td>\n",
       "      <td>31800.0</td>\n",
       "      <td>0.02940</td>\n",
       "      <td>62000.0</td>\n",
       "      <td>160.0</td>\n",
       "      <td>42700.0</td>\n",
       "      <td>0.02660</td>\n",
       "      <td>72700.0</td>\n",
       "      <td>160.0</td>\n",
       "      <td>42000.0</td>\n",
       "      <td>-0.00835</td>\n",
       "      <td>74300.0</td>\n",
       "      <td>160.0</td>\n",
       "      <td>48200.0</td>\n",
       "      <td>-0.00919</td>\n",
       "      <td>68200.0</td>\n",
       "    </tr>\n",
       "    <tr>\n",
       "      <th>Angola</th>\n",
       "      <td>602000.0</td>\n",
       "      <td>3750.0</td>\n",
       "      <td>0.03210</td>\n",
       "      <td>6530000.0</td>\n",
       "      <td>596000.0</td>\n",
       "      <td>3920.0</td>\n",
       "      <td>0.03300</td>\n",
       "      <td>8690000.0</td>\n",
       "      <td>590000.0</td>\n",
       "      <td>5500.0</td>\n",
       "      <td>0.03620</td>\n",
       "      <td>11400000.0</td>\n",
       "      <td>584000.0</td>\n",
       "      <td>6350.0</td>\n",
       "      <td>0.03630</td>\n",
       "      <td>14700000.0</td>\n",
       "      <td>577000.0</td>\n",
       "      <td>6260.0</td>\n",
       "      <td>0.03380</td>\n",
       "      <td>18500000.0</td>\n",
       "    </tr>\n",
       "  </tbody>\n",
       "</table>\n",
       "</div>"
      ],
      "text/plain": [
       "             1996_FOR  1996_INC  1996_POP    1996_URB  2001_FOR  2001_INC  \\\n",
       "country                                                                     \n",
       "Afghanistan   13500.0     942.0   0.04020   4090000.0   13500.0     646.0   \n",
       "Albania        7770.0    4530.0  -0.00622   1250000.0    7720.0    5950.0   \n",
       "Algeria       16100.0    9560.0   0.01750  16600000.0   15700.0   10400.0   \n",
       "Andorra         160.0   27200.0   0.00796     60100.0     160.0   31800.0   \n",
       "Angola       602000.0    3750.0   0.03210   6530000.0  596000.0    3920.0   \n",
       "\n",
       "             2001_POP    2001_URB  2006_FOR  2006_INC  2006_POP    2006_URB  \\\n",
       "country                                                                       \n",
       "Afghanistan   0.03900   4790000.0   13500.0    1120.0   0.02990   6060000.0   \n",
       "Albania      -0.00938   1300000.0    7810.0    7910.0  -0.00631   1430000.0   \n",
       "Algeria       0.01310  19100000.0   16100.0   12400.0   0.01470  21700000.0   \n",
       "Andorra       0.02940     62000.0     160.0   42700.0   0.02660     72700.0   \n",
       "Angola        0.03300   8690000.0  590000.0    5500.0   0.03620  11400000.0   \n",
       "\n",
       "             2011_FOR  2011_INC  2011_POP    2011_URB  2016_FOR  2016_INC  \\\n",
       "country                                                                     \n",
       "Afghanistan   13500.0    1630.0   0.03140   7210000.0   13500.0    1760.0   \n",
       "Albania        7750.0   10200.0  -0.00269   1550000.0    7710.0   11400.0   \n",
       "Algeria       19300.0   13000.0   0.01880  25000000.0   19600.0   13900.0   \n",
       "Andorra         160.0   42000.0  -0.00835     74300.0     160.0   48200.0   \n",
       "Angola       584000.0    6350.0   0.03630  14700000.0  577000.0    6260.0   \n",
       "\n",
       "             2016_POP    2016_URB  \n",
       "country                            \n",
       "Afghanistan   0.02780   8850000.0  \n",
       "Albania      -0.00160   1680000.0  \n",
       "Algeria       0.02050  29000000.0  \n",
       "Andorra      -0.00919     68200.0  \n",
       "Angola        0.03380  18500000.0  "
      ]
     },
     "execution_count": 29,
     "metadata": {},
     "output_type": "execute_result"
    }
   ],
   "source": [
    "df_combined.head()"
   ]
  },
  {
   "cell_type": "code",
   "execution_count": 30,
   "metadata": {},
   "outputs": [],
   "source": [
    "#Save the combined and cleaned dataframe\n",
    "df_combined.to_csv('df_combined', index = False)"
   ]
  },
  {
   "cell_type": "markdown",
   "metadata": {},
   "source": [
    "<a id='eda'></a>\n",
    "## Exploratory Data Analysis\n",
    "\n",
    "\n",
    "### Research Question 1 How has the population growth rate increased/decreased from 1996 to 2016?"
   ]
  },
  {
   "cell_type": "markdown",
   "metadata": {},
   "source": [
    "Below a graph is plotted for the population growth rate for all 5 years. This graph plots the population growth rate against the number of countries. From the below graph it can be observed that the population growth rate appears skewed right for 2001, 2006 and 2011 and it appears to be a little skewed left for 1996 and 2016."
   ]
  },
  {
   "cell_type": "code",
   "execution_count": 31,
   "metadata": {},
   "outputs": [
    {
     "data": {
      "text/html": [
       "<div>\n",
       "<style scoped>\n",
       "    .dataframe tbody tr th:only-of-type {\n",
       "        vertical-align: middle;\n",
       "    }\n",
       "\n",
       "    .dataframe tbody tr th {\n",
       "        vertical-align: top;\n",
       "    }\n",
       "\n",
       "    .dataframe thead th {\n",
       "        text-align: right;\n",
       "    }\n",
       "</style>\n",
       "<table border=\"1\" class=\"dataframe\">\n",
       "  <thead>\n",
       "    <tr style=\"text-align: right;\">\n",
       "      <th></th>\n",
       "      <th>1996_POP</th>\n",
       "      <th>2001_POP</th>\n",
       "      <th>2006_POP</th>\n",
       "      <th>2011_POP</th>\n",
       "      <th>2016_POP</th>\n",
       "    </tr>\n",
       "  </thead>\n",
       "  <tbody>\n",
       "    <tr>\n",
       "      <th>count</th>\n",
       "      <td>193.000000</td>\n",
       "      <td>193.000000</td>\n",
       "      <td>193.000000</td>\n",
       "      <td>193.000000</td>\n",
       "      <td>193.000000</td>\n",
       "    </tr>\n",
       "    <tr>\n",
       "      <th>mean</th>\n",
       "      <td>0.014956</td>\n",
       "      <td>0.014471</td>\n",
       "      <td>0.016115</td>\n",
       "      <td>0.014251</td>\n",
       "      <td>0.013725</td>\n",
       "    </tr>\n",
       "    <tr>\n",
       "      <th>std</th>\n",
       "      <td>0.013198</td>\n",
       "      <td>0.013293</td>\n",
       "      <td>0.019298</td>\n",
       "      <td>0.015258</td>\n",
       "      <td>0.012201</td>\n",
       "    </tr>\n",
       "    <tr>\n",
       "      <th>min</th>\n",
       "      <td>-0.036300</td>\n",
       "      <td>-0.038500</td>\n",
       "      <td>-0.016000</td>\n",
       "      <td>-0.026300</td>\n",
       "      <td>-0.030700</td>\n",
       "    </tr>\n",
       "    <tr>\n",
       "      <th>25%</th>\n",
       "      <td>0.005070</td>\n",
       "      <td>0.005360</td>\n",
       "      <td>0.005580</td>\n",
       "      <td>0.004360</td>\n",
       "      <td>0.005110</td>\n",
       "    </tr>\n",
       "    <tr>\n",
       "      <th>50%</th>\n",
       "      <td>0.015300</td>\n",
       "      <td>0.014000</td>\n",
       "      <td>0.013300</td>\n",
       "      <td>0.013000</td>\n",
       "      <td>0.012200</td>\n",
       "    </tr>\n",
       "    <tr>\n",
       "      <th>75%</th>\n",
       "      <td>0.024900</td>\n",
       "      <td>0.024000</td>\n",
       "      <td>0.024000</td>\n",
       "      <td>0.023900</td>\n",
       "      <td>0.022600</td>\n",
       "    </tr>\n",
       "    <tr>\n",
       "      <th>max</th>\n",
       "      <td>0.055100</td>\n",
       "      <td>0.052400</td>\n",
       "      <td>0.167000</td>\n",
       "      <td>0.092300</td>\n",
       "      <td>0.048500</td>\n",
       "    </tr>\n",
       "  </tbody>\n",
       "</table>\n",
       "</div>"
      ],
      "text/plain": [
       "         1996_POP    2001_POP    2006_POP    2011_POP    2016_POP\n",
       "count  193.000000  193.000000  193.000000  193.000000  193.000000\n",
       "mean     0.014956    0.014471    0.016115    0.014251    0.013725\n",
       "std      0.013198    0.013293    0.019298    0.015258    0.012201\n",
       "min     -0.036300   -0.038500   -0.016000   -0.026300   -0.030700\n",
       "25%      0.005070    0.005360    0.005580    0.004360    0.005110\n",
       "50%      0.015300    0.014000    0.013300    0.013000    0.012200\n",
       "75%      0.024900    0.024000    0.024000    0.023900    0.022600\n",
       "max      0.055100    0.052400    0.167000    0.092300    0.048500"
      ]
     },
     "execution_count": 31,
     "metadata": {},
     "output_type": "execute_result"
    }
   ],
   "source": [
    "df_population_growth.describe()"
   ]
  },
  {
   "cell_type": "code",
   "execution_count": 32,
   "metadata": {},
   "outputs": [
    {
     "data": {
      "image/png": "[encoded data removed]",
      "text/plain": [
       "<matplotlib.figure.Figure at 0x7f81f0d3e160>"
      ]
     },
     "metadata": {
      "needs_background": "light"
     },
     "output_type": "display_data"
    }
   ],
   "source": [
    "\n",
    "plt.subplot(3,2,1)\n",
    "df_combined['1996_POP'].hist(figsize = (8,8), color = 'red')\n",
    "plt.title('Population growth of countries in 1996')\n",
    "plt.xlabel('Growth rate')\n",
    "plt.ylabel('Number of countries')\n",
    "\n",
    "\n",
    "plt.subplot(3,2,2)\n",
    "df_combined['2001_POP'].hist(figsize = (8,8), color = 'green')\n",
    "plt.title('Population growth of countries in 2001')\n",
    "plt.xlabel('Growth rate')\n",
    "plt.ylabel('Number of countries')\n",
    "\n",
    "\n",
    "plt.subplot(3,2,3)\n",
    "df_combined['2006_POP'].hist(figsize = (8,8), color = 'yellow')\n",
    "plt.title('Population growth of countries in 2006')\n",
    "plt.xlabel('Growth rate')\n",
    "plt.ylabel('Number of countries')\n",
    "\n",
    "\n",
    "plt.subplot(3,2,4)\n",
    "df_combined['2011_POP'].hist(figsize = (8,8), color = 'blue')\n",
    "plt.title('Population growth of countries in 2011')\n",
    "plt.xlabel('Growth rate')\n",
    "plt.ylabel('Number of countries')\n",
    "\n",
    "\n",
    "plt.subplot(3,2,5)\n",
    "df_combined['2016_POP'].hist(figsize = (8,8), color = 'brown')\n",
    "plt.title('Population growth of countries in 2016')\n",
    "plt.xlabel('Growth rate')\n",
    "plt.ylabel('Number of countries')\n",
    "\n",
    "\n",
    "plt.tight_layout()"
   ]
  },
  {
   "cell_type": "markdown",
   "metadata": {},
   "source": [
    "From the graphs we can say that the global population growth rate was between 2% and 4% for more than 50 countries in 1996 and 2001. However, this growth rate has reduced to 0% and 2% for most countries in 2006, 2011 and 2016. Also, with time the negative population growth rate or the population decline rate has reduced over time. The population growth rate has skewed more to the right over time except in 1996 and 2016 it is skewed to the left."
   ]
  },
  {
   "cell_type": "markdown",
   "metadata": {},
   "source": [
    "Further, we can see the population growth rate for a country in particular. Let us consider Canada."
   ]
  },
  {
   "cell_type": "code",
   "execution_count": 33,
   "metadata": {},
   "outputs": [
    {
     "data": {
      "image/png": "[encoded data removed]",
      "text/plain": [
       "<matplotlib.figure.Figure at 0x7f81eec2ed68>"
      ]
     },
     "metadata": {
      "needs_background": "light"
     },
     "output_type": "display_data"
    }
   ],
   "source": [
    "#population growth rate for Canada\n",
    "df_population_growth.columns = [1996,2001,2006,2011,2016]\n",
    "plt.title('Population growth rate for Canada')\n",
    "plt.xlabel('Year')\n",
    "plt.ylabel('Population growth rate')\n",
    "df_population_growth.loc['Canada'].plot(figsize = (4,4));\n"
   ]
  },
  {
   "cell_type": "markdown",
   "metadata": {},
   "source": [
    "The above graph shows how the population growth rate has changed for Canada from 1996 to 2016. The population growth decreased from 2001 to 2011 and increased between 2011 and 2016. This can be related to the income per person, urban population or forest area. We can see the relationship of population growth of Canada with other factors from the below graphs."
   ]
  },
  {
   "cell_type": "code",
   "execution_count": 34,
   "metadata": {},
   "outputs": [
    {
     "data": {
      "image/png": "[encoded data removed]",
      "text/plain": [
       "<matplotlib.figure.Figure at 0x7f81eea265c0>"
      ]
     },
     "metadata": {
      "needs_background": "light"
     },
     "output_type": "display_data"
    }
   ],
   "source": [
    "#Various other indicators for Canada\n",
    "\n",
    "plt.subplot(2,2,1)\n",
    "df_income.columns = [1996,2001,2006,2011,2016]\n",
    "plt.title('Income per person in Canada')\n",
    "plt.xlabel('Year')\n",
    "plt.ylabel('Income per person')\n",
    "df_income.loc['Canada'].plot(figsize = (8,8));\n",
    "\n",
    "plt.subplot(2,2,2)\n",
    "df_forest_area.columns = [1996,2001,2006,2011,2016]\n",
    "plt.title('Forest Area of Canada')\n",
    "plt.xlabel('Year')\n",
    "plt.ylabel('Foorest Area')\n",
    "df_forest_area.loc['Canada'].plot(figsize = (8,8));\n",
    "\n",
    "plt.subplot(2,2,3)\n",
    "df_urban_population.columns = [1996,2001,2006,2011,2016]\n",
    "plt.title('Urban Population in Canada')\n",
    "plt.xlabel('Year')\n",
    "plt.ylabel('Urban population')\n",
    "df_urban_population.loc['Canada'].plot(figsize = (8,8));\n",
    "plt.ticklabel_format(useOffset=False, style = 'plain')\n",
    "\n",
    "plt.tight_layout()"
   ]
  },
  {
   "cell_type": "markdown",
   "metadata": {},
   "source": [
    "The population growth rate seems to inversely related to forest area for Canada. But it is difficult to interpret the relationship with income per person GDP and urban population. We can investigate the relationship of these indicators in the following questions."
   ]
  },
  {
   "cell_type": "markdown",
   "metadata": {},
   "source": [
    "### Research Question 2  Is there a relationship between Urban Population and Population growth?"
   ]
  },
  {
   "cell_type": "markdown",
   "metadata": {},
   "source": [
    "To understand this relationship, we have understand the relationship of Urban population and population growth for each year considered in the dataset. We can consider using scatter plots to understand the coorelation of the two indicators.\n"
   ]
  },
  {
   "cell_type": "code",
   "execution_count": 35,
   "metadata": {},
   "outputs": [
    {
     "data": {
      "image/png": "[encoded data removed]",
      "text/plain": [
       "<matplotlib.figure.Figure at 0x7f81ee94bb38>"
      ]
     },
     "metadata": {
      "needs_background": "light"
     },
     "output_type": "display_data"
    }
   ],
   "source": [
    "# Urban population and population growth rate for each year\n",
    "plt.subplot(3,2,1)\n",
    "plt.scatter(x=df_combined['1996_URB'],y=df_combined['1996_POP'], color = 'orange');\n",
    "plt.title('URB v/s POP 1996')\n",
    "plt.xlabel('URB')\n",
    "plt.xlim([0,275000000])\n",
    "plt.ticklabel_format(useOffset=False, style = 'plain')\n",
    "plt.ylabel('POP')\n",
    "\n",
    "plt.subplot(3,2,2)\n",
    "plt.scatter(x=df_combined['2001_URB'],y=df_combined['2001_POP'], color = 'pink');\n",
    "plt.title('URB v/s POP 2001')\n",
    "plt.xlabel('URB')\n",
    "plt.xlim([0,275000000])\n",
    "plt.ticklabel_format(useOffset=False, style = 'plain')\n",
    "plt.ylabel('POP')\n",
    "\n",
    "plt.subplot(3,2,3)\n",
    "plt.scatter(x=df_combined['2006_URB'],y=df_combined['2006_POP'], color = 'yellow');\n",
    "plt.title('URB v/s POP 2006')\n",
    "plt.xlabel('URB')\n",
    "plt.xlim([0,275000000])\n",
    "plt.ticklabel_format(useOffset=False, style = 'plain')\n",
    "plt.ylabel('POP')\n",
    "\n",
    "plt.subplot(3,2,4)\n",
    "plt.scatter(x=df_combined['2011_URB'],y=df_combined['2011_POP'],color = 'cyan');\n",
    "plt.title('URB v/s POP 2011')\n",
    "plt.xlabel('URB')\n",
    "plt.xlim([0,275000000])\n",
    "plt.ticklabel_format(useOffset=False, style = 'plain')\n",
    "plt.ylabel('POP')\n",
    "\n",
    "plt.subplot(3,2,5)\n",
    "plt.scatter(x=df_combined['2016_URB'],y=df_combined['2016_POP'],color = 'purple');\n",
    "plt.title('URB v/s POP 2016')\n",
    "plt.xlabel('URB')\n",
    "plt.xlim([0,275000000])\n",
    "plt.ticklabel_format(useOffset=False, style = 'plain')\n",
    "plt.ylabel('POP')\n",
    "\n",
    "plt.tight_layout()"
   ]
  },
  {
   "cell_type": "code",
   "execution_count": 77,
   "metadata": {},
   "outputs": [],
   "source": [
    "#Function to find and print the correlation coefficient for all years of urban population and population growth\n",
    "def correl(x,y, year):\n",
    "    coeff = np.corrcoef(x,y)\n",
    "    print( \"The coefficient of correlation between urban population and population growth rate in \"+ year + \" was \"+ str(coeff))"
   ]
  },
  {
   "cell_type": "code",
   "execution_count": 78,
   "metadata": {},
   "outputs": [
    {
     "name": "stdout",
     "output_type": "stream",
     "text": [
      "The coefficient of correlation between urban population and population growth rate in 1996 was [[ 1.         -0.06295396]\n",
      " [-0.06295396  1.        ]]\n",
      "The coefficient of correlation between urban population and population growth rate in 2001 was [[ 1.         -0.07942963]\n",
      " [-0.07942963  1.        ]]\n",
      "The coefficient of correlation between urban population and population growth rate in 2006 was [[ 1.         -0.08352241]\n",
      " [-0.08352241  1.        ]]\n",
      "The coefficient of correlation between urban population and population growth rate in 2011 was [[ 1.         -0.07961754]\n",
      " [-0.07961754  1.        ]]\n",
      "The coefficient of correlation between urban population and population growth rate in 2011 was [[ 1.         -0.08428436]\n",
      " [-0.08428436  1.        ]]\n"
     ]
    }
   ],
   "source": [
    "correl(df_combined['1996_URB'],df_combined['1996_POP'], str(1996))\n",
    "correl(df_combined['2001_URB'],df_combined['2001_POP'], str(2001))\n",
    "correl(df_combined['2006_URB'],df_combined['2006_POP'], str(2006))\n",
    "correl(df_combined['2011_URB'],df_combined['2011_POP'], str(2011))\n",
    "correl(df_combined['2016_URB'],df_combined['2016_POP'], str(2011))"
   ]
  },
  {
   "cell_type": "markdown",
   "metadata": {},
   "source": [
    "From the graph it feels like there is a strong coorelation at the begining but with very high urban population the correlation is weak. Also, it can be seen that they are negatively correlated with highest negative correlation in 2016."
   ]
  },
  {
   "cell_type": "markdown",
   "metadata": {},
   "source": [
    "### Research Question 3  Is there a relationship between Urban Population and income per person GDP?"
   ]
  },
  {
   "cell_type": "markdown",
   "metadata": {},
   "source": [
    "Similar to the previous question, plot the graph of urban population and income per person GDP for each year to understand the correlation. "
   ]
  },
  {
   "cell_type": "code",
   "execution_count": 72,
   "metadata": {},
   "outputs": [
    {
     "data": {
      "image/png": "[encoded data removed]",
      "text/plain": [
       "<matplotlib.figure.Figure at 0x7f81ee3e60f0>"
      ]
     },
     "metadata": {
      "needs_background": "light"
     },
     "output_type": "display_data"
    }
   ],
   "source": [
    "plt.subplot(3,2,1)\n",
    "plt.scatter(x=df_combined['1996_URB'],y=df_combined['1996_INC'], color = 'orange');\n",
    "plt.title('URB v/s INC 1996')\n",
    "plt.xlabel('URB')\n",
    "plt.xlim([0,240000000])\n",
    "plt.ylim([0,130000])\n",
    "plt.ticklabel_format(useOffset=False, style = 'plain')\n",
    "plt.ylabel('INC')\n",
    "\n",
    "plt.subplot(3,2,2)\n",
    "plt.scatter(x=df_combined['2001_URB'],y=df_combined['2001_INC'], color = 'pink');\n",
    "plt.title('URB v/s INC 2001')\n",
    "plt.xlabel('URB')\n",
    "plt.xlim([0,240000000])\n",
    "plt.ylim([0,130000])\n",
    "plt.ticklabel_format(useOffset=False, style = 'plain')\n",
    "plt.ylabel('INC')\n",
    "\n",
    "plt.subplot(3,2,3)\n",
    "plt.scatter(x=df_combined['2006_URB'],y=df_combined['2006_INC'], color = 'yellow');\n",
    "plt.title('URB v/s INC 2006')\n",
    "plt.xlabel('URB')\n",
    "plt.xlim([0,240000000])\n",
    "plt.ylim([0,130000])\n",
    "plt.ticklabel_format(useOffset=False, style = 'plain')\n",
    "plt.ylabel('INC')\n",
    "\n",
    "plt.subplot(3,2,4)\n",
    "plt.scatter(x=df_combined['2011_URB'],y=df_combined['2011_INC'],color = 'cyan');\n",
    "plt.title('URB v/s INC 2011')\n",
    "plt.xlabel('URB')\n",
    "plt.xlim([0,240000000])\n",
    "plt.ylim([0,130000])\n",
    "plt.ticklabel_format(useOffset=False, style = 'plain')\n",
    "plt.ylabel('INC')\n",
    "\n",
    "plt.subplot(3,2,5)\n",
    "plt.scatter(x=df_combined['2016_URB'],y=df_combined['2016_INC'],color = 'purple');\n",
    "plt.title('URB v/s INC 2016')\n",
    "plt.xlabel('URB')\n",
    "plt.xlim([0,240000000])\n",
    "plt.ylim([0,130000])\n",
    "plt.ticklabel_format(useOffset=False, style = 'plain')\n",
    "plt.ylabel('INC')\n",
    "\n",
    "plt.tight_layout()"
   ]
  },
  {
   "cell_type": "code",
   "execution_count": 73,
   "metadata": {},
   "outputs": [],
   "source": [
    "#function to find and print the correlation coefficients for all years of urban population and income per person GDP\n",
    "def correl(x,y, year):\n",
    "    coeff = np.corrcoef(x,y)\n",
    "    print( \"The coefficient of correlation between urban population and income per person GDP in \"+ year+ \" was \"+ str(coeff))"
   ]
  },
  {
   "cell_type": "code",
   "execution_count": 74,
   "metadata": {},
   "outputs": [
    {
     "name": "stdout",
     "output_type": "stream",
     "text": [
      "The coefficient of correlation between urban population and income per person GDP in 1996 was [[ 1.          0.02379066]\n",
      " [ 0.02379066  1.        ]]\n",
      "The coefficient of correlation between urban population and income per person GDP in 2001 was [[ 1.          0.01192565]\n",
      " [ 0.01192565  1.        ]]\n",
      "The coefficient of correlation between urban population and income per person GDP in 2006 was [[ 1.         0.0037251]\n",
      " [ 0.0037251  1.       ]]\n",
      "The coefficient of correlation between urban population and income per person GDP in 2011 was [[ 1.          0.01302216]\n",
      " [ 0.01302216  1.        ]]\n",
      "The coefficient of correlation between urban population and income per person GDP in 2011 was [[ 1.          0.01798975]\n",
      " [ 0.01798975  1.        ]]\n"
     ]
    }
   ],
   "source": [
    "correl(df_combined['1996_URB'],df_combined['1996_INC'], str(1996))\n",
    "correl(df_combined['2001_URB'],df_combined['2001_INC'], str(2001))\n",
    "correl(df_combined['2006_URB'],df_combined['2006_INC'], str(2006))\n",
    "correl(df_combined['2011_URB'],df_combined['2011_INC'], str(2011))\n",
    "correl(df_combined['2016_URB'],df_combined['2016_INC'], str(2011))"
   ]
  },
  {
   "cell_type": "markdown",
   "metadata": {},
   "source": [
    "It can be observed that the scatter plot suggests a strong correlation between urban population and income per person GDP. They are positively correlated and the correlation coefficient has increased each year. The highest correlation coefficient was in 2016."
   ]
  },
  {
   "cell_type": "markdown",
   "metadata": {},
   "source": [
    "<a id='conclusions'></a>\n",
    "## Conclusions\n",
    "The global population growth rate from 1996 to 2016 was observed from the graphs. A country could be selected and its population growth rate could be analyzed for the same timeframe. In the above analysis Canada was considered to analyze the population growth where the population growth rate declined between 1996 and 2011 and later increased from 2011 to 2016. Further, graphs were plotted for other indicators of Canada to see if they were factors influencing the population growth. As conclusions couldn't be drawn, further investigations were made to understand the relationship between urban population and population growth rate, also between urban population and income per person GDP. \n",
    "It was found that urban population and population growth rate were negatively correlated and urban population and income per person GDP were positively coorelated.\n",
    "\n",
    "**Limitations**: This dataset considers only 5 years of data for all 4 indicators. Analysis are being carried out only based on these indicators where as the gapminder data set has various indicators and factors influencing the trends may include other indicators which are beyound the scope of this dataset.\n"
   ]
  },
  {
   "cell_type": "code",
   "execution_count": 75,
   "metadata": {},
   "outputs": [
    {
     "data": {
      "text/plain": [
       "0"
      ]
     },
     "execution_count": 75,
     "metadata": {},
     "output_type": "execute_result"
    }
   ],
   "source": [
    "from subprocess import call\n",
    "call(['python', '-m', 'nbconvert', 'Investigate_a_Dataset.ipynb'])"
   ]
  }
 ],
 "metadata": {
  "kernelspec": {
   "display_name": "Python 3",
   "language": "python",
   "name": "python3"
  },
  "language_info": {
   "codemirror_mode": {
    "name": "ipython",
    "version": 3
   },
   "file_extension": ".py",
   "mimetype": "text/x-python",
   "name": "python",
   "nbconvert_exporter": "python",
   "pygments_lexer": "ipython3",
   "version": "3.6.3"
  }
 },
 "nbformat": 4,
 "nbformat_minor": 2
}
